{
 "metadata": {
  "language_info": {
   "codemirror_mode": {
    "name": "ipython",
    "version": 3
   },
   "file_extension": ".py",
   "mimetype": "text/x-python",
   "name": "python",
   "nbconvert_exporter": "python",
   "pygments_lexer": "ipython3",
   "version": 3
  },
  "orig_nbformat": 2,
  "kernelspec": {
   "name": "python_defaultSpec_1597194841607",
   "display_name": "Python 3.6.8 64-bit"
  }
 },
 "nbformat": 4,
 "nbformat_minor": 2,
 "cells": [
  {
   "cell_type": "code",
   "execution_count": 1,
   "metadata": {},
   "outputs": [],
   "source": [
    "import torch\n",
    "import torchvision\n",
    "import torch.nn as nn \n",
    "from torch.nn import functional as F \n",
    "from VGG16_teacher import VGG           # Import the teacher model\n",
    "                                        # Teacher model: VGG 16 "
   ]
  },
  {
   "cell_type": "code",
   "execution_count": 2,
   "metadata": {},
   "outputs": [
    {
     "output_type": "execute_result",
     "data": {
      "text/plain": "<torch._C.Generator at 0x19de05af090>"
     },
     "metadata": {},
     "execution_count": 2
    }
   ],
   "source": [
    "random_seed = 1\n",
    "torch.manual_seed(random_seed)"
   ]
  },
  {
   "cell_type": "markdown",
   "metadata": {},
   "source": [
    "# Student Network\n",
    "## Student Network: 5 layer convolutional network (4 conv + 1 fc) "
   ]
  },
  {
   "cell_type": "code",
   "execution_count": null,
   "metadata": {},
   "outputs": [],
   "source": [
    "class five_layer_model(nn.Module):\n",
    "    def __init__(self):\n",
    "        super(five_layer_model, self).__init__()\n",
    "\n",
    "    def forward(self, x):\n",
    "        return "
   ]
  },
  {
   "cell_type": "markdown",
   "metadata": {},
   "source": [
    "# Teacher Network: Load weight from saved file"
   ]
  },
  {
   "cell_type": "code",
   "execution_count": null,
   "metadata": {},
   "outputs": [],
   "source": [
    "student_model = five_layer_model()\n",
    "student_model = student_model.cuda()\n",
    "\n",
    "teacher_model = VGG('VGG16')\n",
    "teacher_model = teacher_model.cuda()\n",
    "\n",
    "device = 'cuda' if torch.cuda.is_available() else 'cpu'"
   ]
  },
  {
   "cell_type": "code",
   "execution_count": null,
   "metadata": {},
   "outputs": [],
   "source": [
    "teacher_model.load_state_dict(torch.load('VGG16_teacher.pth'))"
   ]
  },
  {
   "cell_type": "markdown",
   "metadata": {},
   "source": [
    "# New Loss function \n",
    "## KL divergence + Cross entropy loss"
   ]
  },
  {
   "cell_type": "code",
   "execution_count": null,
   "metadata": {},
   "outputs": [],
   "source": [
    "# Use \"nn.KLDivLoss()\" and \"nn.CrossEntropyLoss\" the make new loss \n",
    "# Use softmax and log softmax: F.softmax(), F.log_softmax()\n",
    "\n",
    "def distillation(student_scores, true_labels, teacher_scores, T, alpha):    "
   ]
  },
  {
   "cell_type": "code",
   "execution_count": null,
   "metadata": {},
   "outputs": [],
   "source": [
    "import torch.optim as optim\n",
    "import torchvision\n",
    "from torch.optim import lr_scheduler\n",
    "import time\n",
    "\n",
    "optimizer = optim.SGD(student_model.parameters(), lr = \"\"\"???\"\"\", momentum = 0.9)\n",
    "criterion = nn.CrossEntropyLoss()\n",
    "step_lr_scheduler = lr_scheduler.MultiStepLR(optimizer, milestones=[\"\"???\"\"], gamma = \"\"\"???\"\"\")"
   ]
  },
  {
   "cell_type": "markdown",
   "metadata": {},
   "source": [
    "# Train and Test code\n",
    "## There is blank in Training code. \n",
    "\n",
    "## - Teacher model: Evaluation mode\n",
    "### Weights should not be updated\n",
    "## - Student model: Training mode.  \n",
    "### Have to update weights "
   ]
  },
  {
   "cell_type": "code",
   "execution_count": null,
   "metadata": {},
   "outputs": [],
   "source": [
    "def train(epoch):\n",
    "    # Student model Train mode \n",
    "    # Teacher model Test mode \n",
    "    running_loss = 0\n",
    "    for batch_idx, data in enumerate(train_loader): \n",
    "        image, label = data\n",
    "        image = image.cuda()\n",
    "        labels = label.cuda()\n",
    "        optimizer.zero_grad()\n",
    "\n",
    "        student_output = # blank \n",
    "        teacher_output = # blank \n",
    "        teacher_output = teacher_output.detach()\n",
    "\n",
    "        loss = # blank\n",
    "        loss.backward()\n",
    "        optimizer.step()\n",
    "        running_loss += loss.item()\n",
    "\n",
    "        if batch_idx % 30 ==29:\n",
    "            print('Train Epoch: {} [{}/{} ({:.0f}%)]\\tLoss: {:.6f}'.format(\n",
    "        epoch, batch_idx * 128, len(train_loader.dataset),\n",
    "        100. * batch_idx / len(train_loader), loss.item()))\n",
    "            train_losses.append(loss.item())\n",
    "            train_counter.append((batch_idx*64) + ((epoch-1)*len(train_loader.dataset)))\n",
    "            torch.save(student_model.state_dict(), './distillation_model.pth')"
   ]
  },
  {
   "cell_type": "code",
   "execution_count": null,
   "metadata": {},
   "outputs": [],
   "source": [
    "def test(model, append = True):\n",
    "    model.eval()\n",
    "    test_loss = 0\n",
    "    correct = 0\n",
    "    total = 0\n",
    "    with torch.no_grad():\n",
    "        for batch_idx, data in enumerate(test_loader):\n",
    "            images, labels = data\n",
    "            images = images.cuda()\n",
    "            labels = labels.cuda()\n",
    "            outputs = model(images)\n",
    "            loss = criterion(outputs, labels)\n",
    "            _, predicted = torch.max(outputs.data, 1)\n",
    "            total += labels.size(0)\n",
    "            correct += (predicted == labels).sum().item()\n",
    "            test_loss += loss.item()\n",
    "    print('\\nTest set: Avg. loss: {:.4f}, Accuracy: {}/{} ({:.0f}%)\\n'.format(\n",
    "    test_loss/(batch_idx+1), correct, len(test_loader.dataset),\n",
    "    100. * correct / len(test_loader.dataset)))\n",
    "    if append:     \n",
    "        test_losses.append(test_loss/(batch_idx+1))\n",
    "        accuracy.append(100. * correct / len(test_loader.dataset))"
   ]
  },
  {
   "cell_type": "markdown",
   "metadata": {},
   "source": [
    "# Load the CIFAR 10 data which downloaded yesterday. \n",
    "## Change the \"root \""
   ]
  },
  {
   "cell_type": "code",
   "execution_count": null,
   "metadata": {},
   "outputs": [],
   "source": [
    "train_loader = torch.utils.data.DataLoader(\n",
    "  torchvision.datasets.CIFAR10(root = 'YOUR_PATH', train=True, download=True,\n",
    "                             transform=torchvision.transforms.Compose([\n",
    "                                 torchvision.transforms.RandomCrop(32, padding = 4),\n",
    "                                 torchvision.transforms.RandomHorizontalFlip(),\n",
    "                               torchvision.transforms.ToTensor(),\n",
    "                               torchvision.transforms.Normalize(\n",
    "                                (0.4914, 0.4822, 0.4465), (0.2023, 0.1994, 0.2010))\n",
    "                             ])),\n",
    "  batch_size=128, shuffle=True)\n",
    "\n",
    "test_loader = torch.utils.data.DataLoader(\n",
    "  torchvision.datasets.CIFAR10(root = 'YOUR_PATH', train=False, download=True,\n",
    "                             transform=torchvision.transforms.Compose([\n",
    "                               torchvision.transforms.ToTensor(),\n",
    "                               torchvision.transforms.Normalize(\n",
    "                                 (0.4914, 0.4822, 0.4465), (0.2023, 0.1994, 0.2010))\n",
    "                             ])),\n",
    "  batch_size=128, shuffle=True)"
   ]
  },
  {
   "cell_type": "code",
   "execution_count": null,
   "metadata": {},
   "outputs": [],
   "source": [
    "epochs = 50\n",
    "train_losses = []\n",
    "train_counter = []\n",
    "test_losses = []\n",
    "test_counter = [i*len(train_loader.dataset) for i in range(epochs + 1)]\n",
    "accuracy = []"
   ]
  },
  {
   "cell_type": "markdown",
   "metadata": {},
   "source": [
    "# Check teacher model's accuracy "
   ]
  },
  {
   "cell_type": "code",
   "execution_count": null,
   "metadata": {},
   "outputs": [],
   "source": [
    "test(teacher_model, append=False)"
   ]
  },
  {
   "cell_type": "markdown",
   "metadata": {},
   "source": [
    "# Train Step\n",
    "# Teacher model's Accuracy should be same every time "
   ]
  },
  {
   "cell_type": "code",
   "execution_count": null,
   "metadata": {},
   "outputs": [],
   "source": [
    "test(student_model, append = True)\n",
    "since = time.time()\n",
    "for epoch in range(1, epochs + 1):\n",
    "    train(epoch)\n",
    "    test(student_model, append = True)\n",
    "    test(teacher_model, append  = False)\n",
    "    step_lr_scheduler.step()\n",
    "finish = time.time()\n",
    "print('Training Finished in {}min'.format((finish - since)//60))"
   ]
  },
  {
   "cell_type": "markdown",
   "metadata": {},
   "source": [
    "# Plot Training Loss and Testing Loss "
   ]
  },
  {
   "cell_type": "code",
   "execution_count": null,
   "metadata": {},
   "outputs": [],
   "source": [
    "import matplotlib.pyplot as plt\n",
    "fig = plt.figure()\n",
    "plt.plot(train_counter, train_losses, color='blue')\n",
    "plt.scatter(test_counter, test_losses, color='red')\n",
    "plt.legend(['Train Loss', 'Test Loss'], loc='upper right')\n",
    "plt.xlabel('number of training examples seen')\n",
    "plt.ylabel('negative log likelihood loss')\n",
    "plt.plot()"
   ]
  },
  {
   "cell_type": "markdown",
   "metadata": {},
   "source": [
    "# Plot Test Accuracy "
   ]
  },
  {
   "cell_type": "code",
   "execution_count": null,
   "metadata": {},
   "outputs": [],
   "source": [
    "plt.figure()\n",
    "plt.title('Accuracy')\n",
    "plt.xlabel('epochs')\n",
    "plt.ylabel('Accuracy')\n",
    "plt.plot(range(len(accuracy)), accuracy, color = 'blue')\n",
    "plt.plot()"
   ]
  },
  {
   "cell_type": "markdown",
   "metadata": {},
   "source": [
    "# Summary of the models \n",
    "## if no module named Error, go to cmd, pip install torchsummary "
   ]
  },
  {
   "cell_type": "code",
   "execution_count": null,
   "metadata": {},
   "outputs": [],
   "source": [
    "from torchsummary import summary \n",
    "\n",
    "print('The number of parameters in Student model')\n",
    "summary(student_model, (3, 32, 32))\n",
    "\n",
    "print('The number of parameters in Teacher model')\n",
    "summary(teacher_model, (3, 32, 32))"
   ]
  }
 ]
}